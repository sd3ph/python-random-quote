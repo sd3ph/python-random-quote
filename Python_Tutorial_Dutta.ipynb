{
  "nbformat": 4,
  "nbformat_minor": 0,
  "metadata": {
    "colab": {
      "name": "Python_Tutorial_Dutta.ipynb",
      "provenance": [],
      "authorship_tag": "ABX9TyNfDoyZfzxT81n4H6FzjfUx",
      "include_colab_link": true
    },
    "kernelspec": {
      "name": "python3",
      "display_name": "Python 3"
    },
    "language_info": {
      "name": "python"
    }
  },
  "cells": [
    {
      "cell_type": "markdown",
      "metadata": {
        "id": "view-in-github",
        "colab_type": "text"
      },
      "source": [
        "<a href=\"https://colab.research.google.com/github/sd3ph/python-random-quote/blob/master/Python_Tutorial_Dutta.ipynb\" target=\"_parent\"><img src=\"https://colab.research.google.com/assets/colab-badge.svg\" alt=\"Open In Colab\"/></a>"
      ]
    },
    {
      "cell_type": "code",
      "metadata": {
        "colab": {
          "base_uri": "https://localhost:8080/"
        },
        "id": "kM6ds9YBBl8j",
        "outputId": "62c6b6d5-670c-4e3c-d71c-94375dc2d61e"
      },
      "source": [
        "print(\"Hi\")  # Print a Text\n"
      ],
      "execution_count": 35,
      "outputs": [
        {
          "output_type": "stream",
          "text": [
            "Hi\n"
          ],
          "name": "stdout"
        }
      ]
    },
    {
      "cell_type": "code",
      "metadata": {
        "colab": {
          "base_uri": "https://localhost:8080/"
        },
        "id": "7RYVuARUCfmU",
        "outputId": "6bcaba47-01c5-4071-c996-7e0996e50ad8"
      },
      "source": [
        "a =2.0   # Print a variable\n",
        "print(a)"
      ],
      "execution_count": 33,
      "outputs": [
        {
          "output_type": "stream",
          "text": [
            "2.0\n"
          ],
          "name": "stdout"
        }
      ]
    },
    {
      "cell_type": "code",
      "metadata": {
        "colab": {
          "base_uri": "https://localhost:8080/"
        },
        "id": "orsAQ-AaGH7I",
        "outputId": "9aabf324-4ecf-4fc2-e320-748af7e6fef5"
      },
      "source": [
        "for i in range(1,5):   # A do loop in the range 1 and 5\n",
        " print(i)"
      ],
      "execution_count": 41,
      "outputs": [
        {
          "output_type": "stream",
          "text": [
            "1\n",
            "2\n",
            "3\n",
            "4\n"
          ],
          "name": "stdout"
        }
      ]
    },
    {
      "cell_type": "code",
      "metadata": {
        "colab": {
          "base_uri": "https://localhost:8080/"
        },
        "id": "ahNH8fZbGKrt",
        "outputId": "239e4172-dbca-4b04-d4f9-392becd53b12"
      },
      "source": [
        "for i in range(1,5):    # nested Do loop\n",
        "  for j in range(1,5):\n",
        "    print(i,j)"
      ],
      "execution_count": 42,
      "outputs": [
        {
          "output_type": "stream",
          "text": [
            "1 1\n",
            "1 2\n",
            "1 3\n",
            "1 4\n",
            "2 1\n",
            "2 2\n",
            "2 3\n",
            "2 4\n",
            "3 1\n",
            "3 2\n",
            "3 3\n",
            "3 4\n",
            "4 1\n",
            "4 2\n",
            "4 3\n",
            "4 4\n"
          ],
          "name": "stdout"
        }
      ]
    },
    {
      "cell_type": "code",
      "metadata": {
        "colab": {
          "base_uri": "https://localhost:8080/"
        },
        "id": "YfzUgCvBGxsx",
        "outputId": "76b21d20-e812-4e66-d9be-1c2ce6f677d9"
      },
      "source": [
        "a = 2.0\n",
        "b = 5.0\n",
        "a+b       # variable addition"
      ],
      "execution_count": 43,
      "outputs": [
        {
          "output_type": "execute_result",
          "data": {
            "text/plain": [
              "7.0"
            ]
          },
          "metadata": {
            "tags": []
          },
          "execution_count": 43
        }
      ]
    },
    {
      "cell_type": "code",
      "metadata": {
        "colab": {
          "base_uri": "https://localhost:8080/"
        },
        "id": "00zqviAQG1wD",
        "outputId": "52049074-5c45-4ea1-e7d3-f6c8729bfec8"
      },
      "source": [
        "adj = [\"red\", \"big\", \"tasty\"]\n",
        "fruits = [\"apple\", \"banana\", \"cherry\"]\n",
        "\n",
        "for x in adj:\n",
        "  for y in fruits:\n",
        "    print(x, y)      # Do loop using texts"
      ],
      "execution_count": 44,
      "outputs": [
        {
          "output_type": "stream",
          "text": [
            "red apple\n",
            "red banana\n",
            "red cherry\n",
            "big apple\n",
            "big banana\n",
            "big cherry\n",
            "tasty apple\n",
            "tasty banana\n",
            "tasty cherry\n"
          ],
          "name": "stdout"
        }
      ]
    },
    {
      "cell_type": "code",
      "metadata": {
        "colab": {
          "base_uri": "https://localhost:8080/"
        },
        "id": "e6kza-KXG9Rg",
        "outputId": "7ad5a4fc-e068-4efd-990c-f79c0f097569"
      },
      "source": [
        "a = [1,0,0]    # Defining a matrix\n",
        "a"
      ],
      "execution_count": 46,
      "outputs": [
        {
          "output_type": "execute_result",
          "data": {
            "text/plain": [
              "[1, 0, 0]"
            ]
          },
          "metadata": {
            "tags": []
          },
          "execution_count": 46
        }
      ]
    },
    {
      "cell_type": "code",
      "metadata": {
        "colab": {
          "base_uri": "https://localhost:8080/"
        },
        "id": "NLuV30p9HSzf",
        "outputId": "dffbb426-68b7-4356-8f9a-1c221390a805"
      },
      "source": [
        "import numpy as np    # Adapting Numpy library\n",
        "A = np.array([1,2,3])  # Defining array using Numpy style\n",
        "print(A)"
      ],
      "execution_count": 52,
      "outputs": [
        {
          "output_type": "stream",
          "text": [
            "[1 2 3]\n"
          ],
          "name": "stdout"
        }
      ]
    },
    {
      "cell_type": "code",
      "metadata": {
        "colab": {
          "base_uri": "https://localhost:8080/"
        },
        "id": "bupQInUNHaeC",
        "outputId": "84ddfb18-a09d-457c-fcbb-54cf7c62706f"
      },
      "source": [
        "B = np.array([1,2,3])\n",
        "print(B)"
      ],
      "execution_count": 53,
      "outputs": [
        {
          "output_type": "stream",
          "text": [
            "[1 2 3]\n"
          ],
          "name": "stdout"
        }
      ]
    },
    {
      "cell_type": "code",
      "metadata": {
        "colab": {
          "base_uri": "https://localhost:8080/"
        },
        "id": "i5GLWbB8JH2U",
        "outputId": "e4c8fa8d-c25d-430b-983f-8b9a0acd9e0a"
      },
      "source": [
        "C=A+B     # Matrix addition using numpy\n",
        "print(C)"
      ],
      "execution_count": 54,
      "outputs": [
        {
          "output_type": "stream",
          "text": [
            "[2 4 6]\n"
          ],
          "name": "stdout"
        }
      ]
    },
    {
      "cell_type": "code",
      "metadata": {
        "colab": {
          "base_uri": "https://localhost:8080/"
        },
        "id": "Yq__NiBtJLjz",
        "outputId": "2c35cf9c-8838-4365-b609-9cb49e2a715d"
      },
      "source": [
        "D=np.array([[1,2,3],\n",
        "   [4,5,6],\n",
        "   [7,8,9]])\n",
        "print(D.transpose()) # Transpose of a three dimensional matrix C using Numpy"
      ],
      "execution_count": 59,
      "outputs": [
        {
          "output_type": "stream",
          "text": [
            "[[1 4 7]\n",
            " [2 5 8]\n",
            " [3 6 9]]\n"
          ],
          "name": "stdout"
        }
      ]
    },
    {
      "cell_type": "code",
      "metadata": {
        "colab": {
          "base_uri": "https://localhost:8080/"
        },
        "id": "ikUy_0qjJhEN",
        "outputId": "4e5ccb7a-54cd-40e6-a07a-ad1ec79e0cd9"
      },
      "source": [
        "print(D[0,:]) # Printing 0th row\n",
        "print(D[:,0]) # Printing 0th column"
      ],
      "execution_count": 68,
      "outputs": [
        {
          "output_type": "stream",
          "text": [
            "[1 2 3]\n",
            "[1 4 7]\n"
          ],
          "name": "stdout"
        }
      ]
    },
    {
      "cell_type": "code",
      "metadata": {
        "colab": {
          "base_uri": "https://localhost:8080/"
        },
        "id": "06qbKtvyKd4J",
        "outputId": "fc546ed4-d22c-41a2-daf9-56ac1bd2014d"
      },
      "source": [
        "c1 = np.array([[1,2,3],[4,5,6],[7,8,9]])\n",
        "c2 = np.array([[1,2,3],[4,5,6],[7,8,9]])\n",
        "c3 = c1 @ c2  # Matrix Multiplication using Numpy\n",
        "print(c3)\n"
      ],
      "execution_count": 76,
      "outputs": [
        {
          "output_type": "stream",
          "text": [
            "[[ 30  36  42]\n",
            " [ 66  81  96]\n",
            " [102 126 150]]\n"
          ],
          "name": "stdout"
        }
      ]
    },
    {
      "cell_type": "code",
      "metadata": {
        "id": "MnhDZ61YL6cp"
      },
      "source": [
        "import matplotlib.pyplot as suman"
      ],
      "execution_count": 104,
      "outputs": []
    },
    {
      "cell_type": "code",
      "metadata": {
        "colab": {
          "base_uri": "https://localhost:8080/"
        },
        "id": "EaSUV5ltOX6-",
        "outputId": "7d457d07-7fc3-4e9b-f46f-1c3665b87f3b"
      },
      "source": [
        "import math \n",
        "a = math.pi / 6\n",
        "     \n",
        "# returning the value of sine of pi / 6 \n",
        "print (\"The value of sine of pi / 6 is : \", end =\"\") \n",
        "print (math.sin(a)) "
      ],
      "execution_count": 89,
      "outputs": [
        {
          "output_type": "stream",
          "text": [
            "The value of sine of pi / 6 is : 0.49999999999999994\n"
          ],
          "name": "stdout"
        }
      ]
    },
    {
      "cell_type": "code",
      "metadata": {
        "id": "SkGUxIrUT8EM"
      },
      "source": [
        "import pandas  # Import library of Panda"
      ],
      "execution_count": 96,
      "outputs": []
    }
  ]
}